{
 "cells": [
  {
   "attachments": {},
   "cell_type": "markdown",
   "metadata": {},
   "source": [
    "# ML for TFLite"
   ]
  },
  {
   "cell_type": "code",
   "execution_count": 13,
   "metadata": {},
   "outputs": [],
   "source": [
    "# $ pip uninstall -y tensorflow\n",
    "# $ pip install -q tf-nightly\n",
    "# $ pip install -q tensorflow-model-optimization"
   ]
  },
  {
   "cell_type": "code",
   "execution_count": 11,
   "metadata": {},
   "outputs": [],
   "source": [
    "! pip install -q tensorflow-model-optimization"
   ]
  },
  {
   "cell_type": "code",
   "execution_count": 1,
   "metadata": {},
   "outputs": [],
   "source": [
    "import tensorflow as tf\n",
    "from keras.preprocessing.image import ImageDataGenerator\n",
    "import tensorflow_model_optimization as tfmot"
   ]
  },
  {
   "cell_type": "code",
   "execution_count": 3,
   "metadata": {},
   "outputs": [
    {
     "data": {
      "text/plain": [
       "36"
      ]
     },
     "execution_count": 3,
     "metadata": {},
     "output_type": "execute_result"
    }
   ],
   "source": [
    "classes_list = ['apple', 'banana', 'beetroot', 'bell pepper', 'cabbage', 'capsicum', 'carrot', 'cauliflower', \n",
    "                'chilli pepper', 'corn', 'cucumber', 'eggplant', 'garlic', 'ginger', 'grapes', 'jalepeno', \n",
    "                'kiwi', 'lemon', 'lettuce',  'mango', 'onion', 'orange',  'paprika', \n",
    "                'pear', 'peas', 'pineapple', 'pomegrante', 'potato', 'raddish', 'soy beans', \n",
    "                'spinach', 'sweetcorn', 'sweetpotato', 'tomato', 'turnip', 'watermelon']\n",
    "len(classes_list)"
   ]
  },
  {
   "cell_type": "code",
   "execution_count": 4,
   "metadata": {},
   "outputs": [],
   "source": [
    "batch_size = 32\n",
    "#image_size = 256\n",
    "target_size = (256,256)\n",
    "input_shape = (256, 256, 3)"
   ]
  },
  {
   "cell_type": "code",
   "execution_count": 5,
   "metadata": {},
   "outputs": [
    {
     "name": "stdout",
     "output_type": "stream",
     "text": [
      "Found 3115 images belonging to 36 classes.\n",
      "Found 351 images belonging to 36 classes.\n",
      "Found 359 images belonging to 36 classes.\n"
     ]
    }
   ],
   "source": [
    "#Fetching train data and validation data and processing the data\n",
    "train_datagen = ImageDataGenerator(rescale = 1.00 / 255.0)\n",
    "val_datagen = ImageDataGenerator(rescale = 1.00 / 255.0)\n",
    "test_datagen = ImageDataGenerator(rescale = 1.00 / 255.0)\n",
    "\n",
    "train_dir = ''\n",
    "test_dir = ''\n",
    "val_dir = ''\n",
    "\n",
    "train_generator = train_datagen.flow_from_directory(\n",
    "    train_dir,\n",
    "    target_size = target_size,\n",
    "    batch_size = batch_size\n",
    "\n",
    ")\n",
    "\n",
    "validation_generator = val_datagen.flow_from_directory(\n",
    "    val_dir,\n",
    "    target_size = target_size,\n",
    "    batch_size = batch_size\n",
    ")\n",
    "\n",
    "test_generator = test_datagen.flow_from_directory(\n",
    "    test_dir,\n",
    "    target_size = target_size,\n",
    "    batch_size = batch_size\n",
    ")"
   ]
  },
  {
   "cell_type": "markdown",
   "metadata": {},
   "source": [
    "# Convert MobileNetV2"
   ]
  },
  {
   "cell_type": "code",
   "execution_count": 6,
   "metadata": {},
   "outputs": [
    {
     "name": "stdout",
     "output_type": "stream",
     "text": [
      "WARNING:tensorflow:From c:\\ProgramData\\Anaconda3\\lib\\site-packages\\tensorflow\\python\\autograph\\pyct\\static_analysis\\liveness.py:83: Analyzer.lamba_check (from tensorflow.python.autograph.pyct.static_analysis.liveness) is deprecated and will be removed after 2023-09-23.\n",
      "Instructions for updating:\n",
      "Lambda fuctions will be no more assumed to be used in the statement where they are used, or at least in the same block. https://github.com/tensorflow/tensorflow/issues/56089\n",
      "Model: \"model\"\n",
      "__________________________________________________________________________________________________\n",
      " Layer (type)                   Output Shape         Param #     Connected to                     \n",
      "==================================================================================================\n",
      " input_5 (InputLayer)           [(None, 256, 256, 3  0           []                               \n",
      "                                )]                                                                \n",
      "                                                                                                  \n",
      " quantize_layer (QuantizeLayer)  (None, 256, 256, 3)  3          ['input_5[0][0]']                \n",
      "                                                                                                  \n",
      " quant_Conv1 (QuantizeWrapperV2  (None, 128, 128, 32  929        ['quantize_layer[0][0]']         \n",
      " )                              )                                                                 \n",
      "                                                                                                  \n",
      " quant_bn_Conv1 (QuantizeWrappe  (None, 128, 128, 32  129        ['quant_Conv1[0][0]']            \n",
      " rV2)                           )                                                                 \n",
      "                                                                                                  \n",
      " quant_Conv1_relu (QuantizeWrap  (None, 128, 128, 32  3          ['quant_bn_Conv1[0][0]']         \n",
      " perV2)                         )                                                                 \n",
      "                                                                                                  \n",
      " quant_expanded_conv_depthwise   (None, 128, 128, 32  291        ['quant_Conv1_relu[0][0]']       \n",
      " (QuantizeWrapperV2)            )                                                                 \n",
      "                                                                                                  \n",
      " quant_expanded_conv_depthwise_  (None, 128, 128, 32  129        ['quant_expanded_conv_depthwise[0\n",
      " BN (QuantizeWrapperV2)         )                                ][0]']                           \n",
      "                                                                                                  \n",
      " quant_expanded_conv_depthwise_  (None, 128, 128, 32  3          ['quant_expanded_conv_depthwise_B\n",
      " relu (QuantizeWrapperV2)       )                                N[0][0]']                        \n",
      "                                                                                                  \n",
      " quant_expanded_conv_project (Q  (None, 128, 128, 16  545        ['quant_expanded_conv_depthwise_r\n",
      " uantizeWrapperV2)              )                                elu[0][0]']                      \n",
      "                                                                                                  \n",
      " quant_expanded_conv_project_BN  (None, 128, 128, 16  67         ['quant_expanded_conv_project[0][\n",
      "  (QuantizeWrapperV2)           )                                0]']                             \n",
      "                                                                                                  \n",
      " quant_block_1_expand (Quantize  (None, 128, 128, 96  1729       ['quant_expanded_conv_project_BN[\n",
      " WrapperV2)                     )                                0][0]']                          \n",
      "                                                                                                  \n",
      " quant_block_1_expand_BN (Quant  (None, 128, 128, 96  385        ['quant_block_1_expand[0][0]']   \n",
      " izeWrapperV2)                  )                                                                 \n",
      "                                                                                                  \n",
      " quant_block_1_expand_relu (Qua  (None, 128, 128, 96  3          ['quant_block_1_expand_BN[0][0]']\n",
      " ntizeWrapperV2)                )                                                                 \n",
      "                                                                                                  \n",
      " quant_block_1_pad (QuantizeWra  (None, 129, 129, 96  1          ['quant_block_1_expand_relu[0][0]\n",
      " pperV2)                        )                                ']                               \n",
      "                                                                                                  \n",
      " quant_block_1_depthwise (Quant  (None, 64, 64, 96)  867         ['quant_block_1_pad[0][0]']      \n",
      " izeWrapperV2)                                                                                    \n",
      "                                                                                                  \n",
      " quant_block_1_depthwise_BN (Qu  (None, 64, 64, 96)  385         ['quant_block_1_depthwise[0][0]']\n",
      " antizeWrapperV2)                                                                                 \n",
      "                                                                                                  \n",
      " quant_block_1_depthwise_relu (  (None, 64, 64, 96)  3           ['quant_block_1_depthwise_BN[0][0\n",
      " QuantizeWrapperV2)                                              ]']                              \n",
      "                                                                                                  \n",
      " quant_block_1_project (Quantiz  (None, 64, 64, 24)  2353        ['quant_block_1_depthwise_relu[0]\n",
      " eWrapperV2)                                                     [0]']                            \n",
      "                                                                                                  \n",
      " quant_block_1_project_BN (Quan  (None, 64, 64, 24)  99          ['quant_block_1_project[0][0]']  \n",
      " tizeWrapperV2)                                                                                   \n",
      "                                                                                                  \n",
      " quant_block_2_expand (Quantize  (None, 64, 64, 144)  3745       ['quant_block_1_project_BN[0][0]'\n",
      " WrapperV2)                                                      ]                                \n",
      "                                                                                                  \n",
      " quant_block_2_expand_BN (Quant  (None, 64, 64, 144)  577        ['quant_block_2_expand[0][0]']   \n",
      " izeWrapperV2)                                                                                    \n",
      "                                                                                                  \n",
      " quant_block_2_expand_relu (Qua  (None, 64, 64, 144)  3          ['quant_block_2_expand_BN[0][0]']\n",
      " ntizeWrapperV2)                                                                                  \n",
      "                                                                                                  \n",
      " quant_block_2_depthwise (Quant  (None, 64, 64, 144)  1299       ['quant_block_2_expand_relu[0][0]\n",
      " izeWrapperV2)                                                   ']                               \n",
      "                                                                                                  \n",
      " quant_block_2_depthwise_BN (Qu  (None, 64, 64, 144)  577        ['quant_block_2_depthwise[0][0]']\n",
      " antizeWrapperV2)                                                                                 \n",
      "                                                                                                  \n",
      " quant_block_2_depthwise_relu (  (None, 64, 64, 144)  3          ['quant_block_2_depthwise_BN[0][0\n",
      " QuantizeWrapperV2)                                              ]']                              \n",
      "                                                                                                  \n",
      " quant_block_2_project (Quantiz  (None, 64, 64, 24)  3505        ['quant_block_2_depthwise_relu[0]\n",
      " eWrapperV2)                                                     [0]']                            \n",
      "                                                                                                  \n",
      " quant_block_2_project_BN (Quan  (None, 64, 64, 24)  99          ['quant_block_2_project[0][0]']  \n",
      " tizeWrapperV2)                                                                                   \n",
      "                                                                                                  \n",
      " quant_block_2_add (QuantizeWra  (None, 64, 64, 24)  3           ['quant_block_1_project_BN[0][0]'\n",
      " pperV2)                                                         , 'quant_block_2_project_BN[0][0]\n",
      "                                                                 ']                               \n",
      "                                                                                                  \n",
      " quant_block_3_expand (Quantize  (None, 64, 64, 144)  3745       ['quant_block_2_add[0][0]']      \n",
      " WrapperV2)                                                                                       \n",
      "                                                                                                  \n",
      " quant_block_3_expand_BN (Quant  (None, 64, 64, 144)  577        ['quant_block_3_expand[0][0]']   \n",
      " izeWrapperV2)                                                                                    \n",
      "                                                                                                  \n",
      " quant_block_3_expand_relu (Qua  (None, 64, 64, 144)  3          ['quant_block_3_expand_BN[0][0]']\n",
      " ntizeWrapperV2)                                                                                  \n",
      "                                                                                                  \n",
      " quant_block_3_pad (QuantizeWra  (None, 65, 65, 144)  1          ['quant_block_3_expand_relu[0][0]\n",
      " pperV2)                                                         ']                               \n",
      "                                                                                                  \n",
      " quant_block_3_depthwise (Quant  (None, 32, 32, 144)  1299       ['quant_block_3_pad[0][0]']      \n",
      " izeWrapperV2)                                                                                    \n",
      "                                                                                                  \n",
      " quant_block_3_depthwise_BN (Qu  (None, 32, 32, 144)  577        ['quant_block_3_depthwise[0][0]']\n",
      " antizeWrapperV2)                                                                                 \n",
      "                                                                                                  \n",
      " quant_block_3_depthwise_relu (  (None, 32, 32, 144)  3          ['quant_block_3_depthwise_BN[0][0\n",
      " QuantizeWrapperV2)                                              ]']                              \n",
      "                                                                                                  \n",
      " quant_block_3_project (Quantiz  (None, 32, 32, 32)  4673        ['quant_block_3_depthwise_relu[0]\n",
      " eWrapperV2)                                                     [0]']                            \n",
      "                                                                                                  \n",
      " quant_block_3_project_BN (Quan  (None, 32, 32, 32)  131         ['quant_block_3_project[0][0]']  \n",
      " tizeWrapperV2)                                                                                   \n",
      "                                                                                                  \n",
      " quant_block_4_expand (Quantize  (None, 32, 32, 192)  6529       ['quant_block_3_project_BN[0][0]'\n",
      " WrapperV2)                                                      ]                                \n",
      "                                                                                                  \n",
      " quant_block_4_expand_BN (Quant  (None, 32, 32, 192)  769        ['quant_block_4_expand[0][0]']   \n",
      " izeWrapperV2)                                                                                    \n",
      "                                                                                                  \n",
      " quant_block_4_expand_relu (Qua  (None, 32, 32, 192)  3          ['quant_block_4_expand_BN[0][0]']\n",
      " ntizeWrapperV2)                                                                                  \n",
      "                                                                                                  \n",
      " quant_block_4_depthwise (Quant  (None, 32, 32, 192)  1731       ['quant_block_4_expand_relu[0][0]\n",
      " izeWrapperV2)                                                   ']                               \n",
      "                                                                                                  \n",
      " quant_block_4_depthwise_BN (Qu  (None, 32, 32, 192)  769        ['quant_block_4_depthwise[0][0]']\n",
      " antizeWrapperV2)                                                                                 \n",
      "                                                                                                  \n",
      " quant_block_4_depthwise_relu (  (None, 32, 32, 192)  3          ['quant_block_4_depthwise_BN[0][0\n",
      " QuantizeWrapperV2)                                              ]']                              \n",
      "                                                                                                  \n",
      " quant_block_4_project (Quantiz  (None, 32, 32, 32)  6209        ['quant_block_4_depthwise_relu[0]\n",
      " eWrapperV2)                                                     [0]']                            \n",
      "                                                                                                  \n",
      " quant_block_4_project_BN (Quan  (None, 32, 32, 32)  131         ['quant_block_4_project[0][0]']  \n",
      " tizeWrapperV2)                                                                                   \n",
      "                                                                                                  \n",
      " quant_block_4_add (QuantizeWra  (None, 32, 32, 32)  3           ['quant_block_3_project_BN[0][0]'\n",
      " pperV2)                                                         , 'quant_block_4_project_BN[0][0]\n",
      "                                                                 ']                               \n",
      "                                                                                                  \n",
      " quant_block_5_expand (Quantize  (None, 32, 32, 192)  6529       ['quant_block_4_add[0][0]']      \n",
      " WrapperV2)                                                                                       \n",
      "                                                                                                  \n",
      " quant_block_5_expand_BN (Quant  (None, 32, 32, 192)  769        ['quant_block_5_expand[0][0]']   \n",
      " izeWrapperV2)                                                                                    \n",
      "                                                                                                  \n",
      " quant_block_5_expand_relu (Qua  (None, 32, 32, 192)  3          ['quant_block_5_expand_BN[0][0]']\n",
      " ntizeWrapperV2)                                                                                  \n",
      "                                                                                                  \n",
      " quant_block_5_depthwise (Quant  (None, 32, 32, 192)  1731       ['quant_block_5_expand_relu[0][0]\n",
      " izeWrapperV2)                                                   ']                               \n",
      "                                                                                                  \n",
      " quant_block_5_depthwise_BN (Qu  (None, 32, 32, 192)  769        ['quant_block_5_depthwise[0][0]']\n",
      " antizeWrapperV2)                                                                                 \n",
      "                                                                                                  \n",
      " quant_block_5_depthwise_relu (  (None, 32, 32, 192)  3          ['quant_block_5_depthwise_BN[0][0\n",
      " QuantizeWrapperV2)                                              ]']                              \n",
      "                                                                                                  \n",
      " quant_block_5_project (Quantiz  (None, 32, 32, 32)  6209        ['quant_block_5_depthwise_relu[0]\n",
      " eWrapperV2)                                                     [0]']                            \n",
      "                                                                                                  \n",
      " quant_block_5_project_BN (Quan  (None, 32, 32, 32)  131         ['quant_block_5_project[0][0]']  \n",
      " tizeWrapperV2)                                                                                   \n",
      "                                                                                                  \n",
      " quant_block_5_add (QuantizeWra  (None, 32, 32, 32)  3           ['quant_block_4_add[0][0]',      \n",
      " pperV2)                                                          'quant_block_5_project_BN[0][0]'\n",
      "                                                                 ]                                \n",
      "                                                                                                  \n",
      " quant_block_6_expand (Quantize  (None, 32, 32, 192)  6529       ['quant_block_5_add[0][0]']      \n",
      " WrapperV2)                                                                                       \n",
      "                                                                                                  \n",
      " quant_block_6_expand_BN (Quant  (None, 32, 32, 192)  769        ['quant_block_6_expand[0][0]']   \n",
      " izeWrapperV2)                                                                                    \n",
      "                                                                                                  \n",
      " quant_block_6_expand_relu (Qua  (None, 32, 32, 192)  3          ['quant_block_6_expand_BN[0][0]']\n",
      " ntizeWrapperV2)                                                                                  \n",
      "                                                                                                  \n",
      " quant_block_6_pad (QuantizeWra  (None, 33, 33, 192)  1          ['quant_block_6_expand_relu[0][0]\n",
      " pperV2)                                                         ']                               \n",
      "                                                                                                  \n",
      " quant_block_6_depthwise (Quant  (None, 16, 16, 192)  1731       ['quant_block_6_pad[0][0]']      \n",
      " izeWrapperV2)                                                                                    \n",
      "                                                                                                  \n",
      " quant_block_6_depthwise_BN (Qu  (None, 16, 16, 192)  769        ['quant_block_6_depthwise[0][0]']\n",
      " antizeWrapperV2)                                                                                 \n",
      "                                                                                                  \n",
      " quant_block_6_depthwise_relu (  (None, 16, 16, 192)  3          ['quant_block_6_depthwise_BN[0][0\n",
      " QuantizeWrapperV2)                                              ]']                              \n",
      "                                                                                                  \n",
      " quant_block_6_project (Quantiz  (None, 16, 16, 64)  12417       ['quant_block_6_depthwise_relu[0]\n",
      " eWrapperV2)                                                     [0]']                            \n",
      "                                                                                                  \n",
      " quant_block_6_project_BN (Quan  (None, 16, 16, 64)  259         ['quant_block_6_project[0][0]']  \n",
      " tizeWrapperV2)                                                                                   \n",
      "                                                                                                  \n",
      " quant_block_7_expand (Quantize  (None, 16, 16, 384)  25345      ['quant_block_6_project_BN[0][0]'\n",
      " WrapperV2)                                                      ]                                \n",
      "                                                                                                  \n",
      " quant_block_7_expand_BN (Quant  (None, 16, 16, 384)  1537       ['quant_block_7_expand[0][0]']   \n",
      " izeWrapperV2)                                                                                    \n",
      "                                                                                                  \n",
      " quant_block_7_expand_relu (Qua  (None, 16, 16, 384)  3          ['quant_block_7_expand_BN[0][0]']\n",
      " ntizeWrapperV2)                                                                                  \n",
      "                                                                                                  \n",
      " quant_block_7_depthwise (Quant  (None, 16, 16, 384)  3459       ['quant_block_7_expand_relu[0][0]\n",
      " izeWrapperV2)                                                   ']                               \n",
      "                                                                                                  \n",
      " quant_block_7_depthwise_BN (Qu  (None, 16, 16, 384)  1537       ['quant_block_7_depthwise[0][0]']\n",
      " antizeWrapperV2)                                                                                 \n",
      "                                                                                                  \n",
      " quant_block_7_depthwise_relu (  (None, 16, 16, 384)  3          ['quant_block_7_depthwise_BN[0][0\n",
      " QuantizeWrapperV2)                                              ]']                              \n",
      "                                                                                                  \n",
      " quant_block_7_project (Quantiz  (None, 16, 16, 64)  24705       ['quant_block_7_depthwise_relu[0]\n",
      " eWrapperV2)                                                     [0]']                            \n",
      "                                                                                                  \n",
      " quant_block_7_project_BN (Quan  (None, 16, 16, 64)  259         ['quant_block_7_project[0][0]']  \n",
      " tizeWrapperV2)                                                                                   \n",
      "                                                                                                  \n",
      " quant_block_7_add (QuantizeWra  (None, 16, 16, 64)  3           ['quant_block_6_project_BN[0][0]'\n",
      " pperV2)                                                         , 'quant_block_7_project_BN[0][0]\n",
      "                                                                 ']                               \n",
      "                                                                                                  \n",
      " quant_block_8_expand (Quantize  (None, 16, 16, 384)  25345      ['quant_block_7_add[0][0]']      \n",
      " WrapperV2)                                                                                       \n",
      "                                                                                                  \n",
      " quant_block_8_expand_BN (Quant  (None, 16, 16, 384)  1537       ['quant_block_8_expand[0][0]']   \n",
      " izeWrapperV2)                                                                                    \n",
      "                                                                                                  \n",
      " quant_block_8_expand_relu (Qua  (None, 16, 16, 384)  3          ['quant_block_8_expand_BN[0][0]']\n",
      " ntizeWrapperV2)                                                                                  \n",
      "                                                                                                  \n",
      " quant_block_8_depthwise (Quant  (None, 16, 16, 384)  3459       ['quant_block_8_expand_relu[0][0]\n",
      " izeWrapperV2)                                                   ']                               \n",
      "                                                                                                  \n",
      " quant_block_8_depthwise_BN (Qu  (None, 16, 16, 384)  1537       ['quant_block_8_depthwise[0][0]']\n",
      " antizeWrapperV2)                                                                                 \n",
      "                                                                                                  \n",
      " quant_block_8_depthwise_relu (  (None, 16, 16, 384)  3          ['quant_block_8_depthwise_BN[0][0\n",
      " QuantizeWrapperV2)                                              ]']                              \n",
      "                                                                                                  \n",
      " quant_block_8_project (Quantiz  (None, 16, 16, 64)  24705       ['quant_block_8_depthwise_relu[0]\n",
      " eWrapperV2)                                                     [0]']                            \n",
      "                                                                                                  \n",
      " quant_block_8_project_BN (Quan  (None, 16, 16, 64)  259         ['quant_block_8_project[0][0]']  \n",
      " tizeWrapperV2)                                                                                   \n",
      "                                                                                                  \n",
      " quant_block_8_add (QuantizeWra  (None, 16, 16, 64)  3           ['quant_block_7_add[0][0]',      \n",
      " pperV2)                                                          'quant_block_8_project_BN[0][0]'\n",
      "                                                                 ]                                \n",
      "                                                                                                  \n",
      " quant_block_9_expand (Quantize  (None, 16, 16, 384)  25345      ['quant_block_8_add[0][0]']      \n",
      " WrapperV2)                                                                                       \n",
      "                                                                                                  \n",
      " quant_block_9_expand_BN (Quant  (None, 16, 16, 384)  1537       ['quant_block_9_expand[0][0]']   \n",
      " izeWrapperV2)                                                                                    \n",
      "                                                                                                  \n",
      " quant_block_9_expand_relu (Qua  (None, 16, 16, 384)  3          ['quant_block_9_expand_BN[0][0]']\n",
      " ntizeWrapperV2)                                                                                  \n",
      "                                                                                                  \n",
      " quant_block_9_depthwise (Quant  (None, 16, 16, 384)  3459       ['quant_block_9_expand_relu[0][0]\n",
      " izeWrapperV2)                                                   ']                               \n",
      "                                                                                                  \n",
      " quant_block_9_depthwise_BN (Qu  (None, 16, 16, 384)  1537       ['quant_block_9_depthwise[0][0]']\n",
      " antizeWrapperV2)                                                                                 \n",
      "                                                                                                  \n",
      " quant_block_9_depthwise_relu (  (None, 16, 16, 384)  3          ['quant_block_9_depthwise_BN[0][0\n",
      " QuantizeWrapperV2)                                              ]']                              \n",
      "                                                                                                  \n",
      " quant_block_9_project (Quantiz  (None, 16, 16, 64)  24705       ['quant_block_9_depthwise_relu[0]\n",
      " eWrapperV2)                                                     [0]']                            \n",
      "                                                                                                  \n",
      " quant_block_9_project_BN (Quan  (None, 16, 16, 64)  259         ['quant_block_9_project[0][0]']  \n",
      " tizeWrapperV2)                                                                                   \n",
      "                                                                                                  \n",
      " quant_block_9_add (QuantizeWra  (None, 16, 16, 64)  3           ['quant_block_8_add[0][0]',      \n",
      " pperV2)                                                          'quant_block_9_project_BN[0][0]'\n",
      "                                                                 ]                                \n",
      "                                                                                                  \n",
      " quant_block_10_expand (Quantiz  (None, 16, 16, 384)  25345      ['quant_block_9_add[0][0]']      \n",
      " eWrapperV2)                                                                                      \n",
      "                                                                                                  \n",
      " quant_block_10_expand_BN (Quan  (None, 16, 16, 384)  1537       ['quant_block_10_expand[0][0]']  \n",
      " tizeWrapperV2)                                                                                   \n",
      "                                                                                                  \n",
      " quant_block_10_expand_relu (Qu  (None, 16, 16, 384)  3          ['quant_block_10_expand_BN[0][0]'\n",
      " antizeWrapperV2)                                                ]                                \n",
      "                                                                                                  \n",
      " quant_block_10_depthwise (Quan  (None, 16, 16, 384)  3459       ['quant_block_10_expand_relu[0][0\n",
      " tizeWrapperV2)                                                  ]']                              \n",
      "                                                                                                  \n",
      " quant_block_10_depthwise_BN (Q  (None, 16, 16, 384)  1537       ['quant_block_10_depthwise[0][0]'\n",
      " uantizeWrapperV2)                                               ]                                \n",
      "                                                                                                  \n",
      " quant_block_10_depthwise_relu   (None, 16, 16, 384)  3          ['quant_block_10_depthwise_BN[0][\n",
      " (QuantizeWrapperV2)                                             0]']                             \n",
      "                                                                                                  \n",
      " quant_block_10_project (Quanti  (None, 16, 16, 96)  37057       ['quant_block_10_depthwise_relu[0\n",
      " zeWrapperV2)                                                    ][0]']                           \n",
      "                                                                                                  \n",
      " quant_block_10_project_BN (Qua  (None, 16, 16, 96)  387         ['quant_block_10_project[0][0]'] \n",
      " ntizeWrapperV2)                                                                                  \n",
      "                                                                                                  \n",
      " quant_block_11_expand (Quantiz  (None, 16, 16, 576)  56449      ['quant_block_10_project_BN[0][0]\n",
      " eWrapperV2)                                                     ']                               \n",
      "                                                                                                  \n",
      " quant_block_11_expand_BN (Quan  (None, 16, 16, 576)  2305       ['quant_block_11_expand[0][0]']  \n",
      " tizeWrapperV2)                                                                                   \n",
      "                                                                                                  \n",
      " quant_block_11_expand_relu (Qu  (None, 16, 16, 576)  3          ['quant_block_11_expand_BN[0][0]'\n",
      " antizeWrapperV2)                                                ]                                \n",
      "                                                                                                  \n",
      " quant_block_11_depthwise (Quan  (None, 16, 16, 576)  5187       ['quant_block_11_expand_relu[0][0\n",
      " tizeWrapperV2)                                                  ]']                              \n",
      "                                                                                                  \n",
      " quant_block_11_depthwise_BN (Q  (None, 16, 16, 576)  2305       ['quant_block_11_depthwise[0][0]'\n",
      " uantizeWrapperV2)                                               ]                                \n",
      "                                                                                                  \n",
      " quant_block_11_depthwise_relu   (None, 16, 16, 576)  3          ['quant_block_11_depthwise_BN[0][\n",
      " (QuantizeWrapperV2)                                             0]']                             \n",
      "                                                                                                  \n",
      " quant_block_11_project (Quanti  (None, 16, 16, 96)  55489       ['quant_block_11_depthwise_relu[0\n",
      " zeWrapperV2)                                                    ][0]']                           \n",
      "                                                                                                  \n",
      " quant_block_11_project_BN (Qua  (None, 16, 16, 96)  387         ['quant_block_11_project[0][0]'] \n",
      " ntizeWrapperV2)                                                                                  \n",
      "                                                                                                  \n",
      " quant_block_11_add (QuantizeWr  (None, 16, 16, 96)  3           ['quant_block_10_project_BN[0][0]\n",
      " apperV2)                                                        ',                               \n",
      "                                                                  'quant_block_11_project_BN[0][0]\n",
      "                                                                 ']                               \n",
      "                                                                                                  \n",
      " quant_block_12_expand (Quantiz  (None, 16, 16, 576)  56449      ['quant_block_11_add[0][0]']     \n",
      " eWrapperV2)                                                                                      \n",
      "                                                                                                  \n",
      " quant_block_12_expand_BN (Quan  (None, 16, 16, 576)  2305       ['quant_block_12_expand[0][0]']  \n",
      " tizeWrapperV2)                                                                                   \n",
      "                                                                                                  \n",
      " quant_block_12_expand_relu (Qu  (None, 16, 16, 576)  3          ['quant_block_12_expand_BN[0][0]'\n",
      " antizeWrapperV2)                                                ]                                \n",
      "                                                                                                  \n",
      " quant_block_12_depthwise (Quan  (None, 16, 16, 576)  5187       ['quant_block_12_expand_relu[0][0\n",
      " tizeWrapperV2)                                                  ]']                              \n",
      "                                                                                                  \n",
      " quant_block_12_depthwise_BN (Q  (None, 16, 16, 576)  2305       ['quant_block_12_depthwise[0][0]'\n",
      " uantizeWrapperV2)                                               ]                                \n",
      "                                                                                                  \n",
      " quant_block_12_depthwise_relu   (None, 16, 16, 576)  3          ['quant_block_12_depthwise_BN[0][\n",
      " (QuantizeWrapperV2)                                             0]']                             \n",
      "                                                                                                  \n",
      " quant_block_12_project (Quanti  (None, 16, 16, 96)  55489       ['quant_block_12_depthwise_relu[0\n",
      " zeWrapperV2)                                                    ][0]']                           \n",
      "                                                                                                  \n",
      " quant_block_12_project_BN (Qua  (None, 16, 16, 96)  387         ['quant_block_12_project[0][0]'] \n",
      " ntizeWrapperV2)                                                                                  \n",
      "                                                                                                  \n",
      " quant_block_12_add (QuantizeWr  (None, 16, 16, 96)  3           ['quant_block_11_add[0][0]',     \n",
      " apperV2)                                                         'quant_block_12_project_BN[0][0]\n",
      "                                                                 ']                               \n",
      "                                                                                                  \n",
      " quant_block_13_expand (Quantiz  (None, 16, 16, 576)  56449      ['quant_block_12_add[0][0]']     \n",
      " eWrapperV2)                                                                                      \n",
      "                                                                                                  \n",
      " quant_block_13_expand_BN (Quan  (None, 16, 16, 576)  2305       ['quant_block_13_expand[0][0]']  \n",
      " tizeWrapperV2)                                                                                   \n",
      "                                                                                                  \n",
      " quant_block_13_expand_relu (Qu  (None, 16, 16, 576)  3          ['quant_block_13_expand_BN[0][0]'\n",
      " antizeWrapperV2)                                                ]                                \n",
      "                                                                                                  \n",
      " quant_block_13_pad (QuantizeWr  (None, 17, 17, 576)  1          ['quant_block_13_expand_relu[0][0\n",
      " apperV2)                                                        ]']                              \n",
      "                                                                                                  \n",
      " quant_block_13_depthwise (Quan  (None, 8, 8, 576)   5187        ['quant_block_13_pad[0][0]']     \n",
      " tizeWrapperV2)                                                                                   \n",
      "                                                                                                  \n",
      " quant_block_13_depthwise_BN (Q  (None, 8, 8, 576)   2305        ['quant_block_13_depthwise[0][0]'\n",
      " uantizeWrapperV2)                                               ]                                \n",
      "                                                                                                  \n",
      " quant_block_13_depthwise_relu   (None, 8, 8, 576)   3           ['quant_block_13_depthwise_BN[0][\n",
      " (QuantizeWrapperV2)                                             0]']                             \n",
      "                                                                                                  \n",
      " quant_block_13_project (Quanti  (None, 8, 8, 160)   92481       ['quant_block_13_depthwise_relu[0\n",
      " zeWrapperV2)                                                    ][0]']                           \n",
      "                                                                                                  \n",
      " quant_block_13_project_BN (Qua  (None, 8, 8, 160)   643         ['quant_block_13_project[0][0]'] \n",
      " ntizeWrapperV2)                                                                                  \n",
      "                                                                                                  \n",
      " quant_block_14_expand (Quantiz  (None, 8, 8, 960)   155521      ['quant_block_13_project_BN[0][0]\n",
      " eWrapperV2)                                                     ']                               \n",
      "                                                                                                  \n",
      " quant_block_14_expand_BN (Quan  (None, 8, 8, 960)   3841        ['quant_block_14_expand[0][0]']  \n",
      " tizeWrapperV2)                                                                                   \n",
      "                                                                                                  \n",
      " quant_block_14_expand_relu (Qu  (None, 8, 8, 960)   3           ['quant_block_14_expand_BN[0][0]'\n",
      " antizeWrapperV2)                                                ]                                \n",
      "                                                                                                  \n",
      " quant_block_14_depthwise (Quan  (None, 8, 8, 960)   8643        ['quant_block_14_expand_relu[0][0\n",
      " tizeWrapperV2)                                                  ]']                              \n",
      "                                                                                                  \n",
      " quant_block_14_depthwise_BN (Q  (None, 8, 8, 960)   3841        ['quant_block_14_depthwise[0][0]'\n",
      " uantizeWrapperV2)                                               ]                                \n",
      "                                                                                                  \n",
      " quant_block_14_depthwise_relu   (None, 8, 8, 960)   3           ['quant_block_14_depthwise_BN[0][\n",
      " (QuantizeWrapperV2)                                             0]']                             \n",
      "                                                                                                  \n",
      " quant_block_14_project (Quanti  (None, 8, 8, 160)   153921      ['quant_block_14_depthwise_relu[0\n",
      " zeWrapperV2)                                                    ][0]']                           \n",
      "                                                                                                  \n",
      " quant_block_14_project_BN (Qua  (None, 8, 8, 160)   643         ['quant_block_14_project[0][0]'] \n",
      " ntizeWrapperV2)                                                                                  \n",
      "                                                                                                  \n",
      " quant_block_14_add (QuantizeWr  (None, 8, 8, 160)   3           ['quant_block_13_project_BN[0][0]\n",
      " apperV2)                                                        ',                               \n",
      "                                                                  'quant_block_14_project_BN[0][0]\n",
      "                                                                 ']                               \n",
      "                                                                                                  \n",
      " quant_block_15_expand (Quantiz  (None, 8, 8, 960)   155521      ['quant_block_14_add[0][0]']     \n",
      " eWrapperV2)                                                                                      \n",
      "                                                                                                  \n",
      " quant_block_15_expand_BN (Quan  (None, 8, 8, 960)   3841        ['quant_block_15_expand[0][0]']  \n",
      " tizeWrapperV2)                                                                                   \n",
      "                                                                                                  \n",
      " quant_block_15_expand_relu (Qu  (None, 8, 8, 960)   3           ['quant_block_15_expand_BN[0][0]'\n",
      " antizeWrapperV2)                                                ]                                \n",
      "                                                                                                  \n",
      " quant_block_15_depthwise (Quan  (None, 8, 8, 960)   8643        ['quant_block_15_expand_relu[0][0\n",
      " tizeWrapperV2)                                                  ]']                              \n",
      "                                                                                                  \n",
      " quant_block_15_depthwise_BN (Q  (None, 8, 8, 960)   3841        ['quant_block_15_depthwise[0][0]'\n",
      " uantizeWrapperV2)                                               ]                                \n",
      "                                                                                                  \n",
      " quant_block_15_depthwise_relu   (None, 8, 8, 960)   3           ['quant_block_15_depthwise_BN[0][\n",
      " (QuantizeWrapperV2)                                             0]']                             \n",
      "                                                                                                  \n",
      " quant_block_15_project (Quanti  (None, 8, 8, 160)   153921      ['quant_block_15_depthwise_relu[0\n",
      " zeWrapperV2)                                                    ][0]']                           \n",
      "                                                                                                  \n",
      " quant_block_15_project_BN (Qua  (None, 8, 8, 160)   643         ['quant_block_15_project[0][0]'] \n",
      " ntizeWrapperV2)                                                                                  \n",
      "                                                                                                  \n",
      " quant_block_15_add (QuantizeWr  (None, 8, 8, 160)   3           ['quant_block_14_add[0][0]',     \n",
      " apperV2)                                                         'quant_block_15_project_BN[0][0]\n",
      "                                                                 ']                               \n",
      "                                                                                                  \n",
      " quant_block_16_expand (Quantiz  (None, 8, 8, 960)   155521      ['quant_block_15_add[0][0]']     \n",
      " eWrapperV2)                                                                                      \n",
      "                                                                                                  \n",
      " quant_block_16_expand_BN (Quan  (None, 8, 8, 960)   3841        ['quant_block_16_expand[0][0]']  \n",
      " tizeWrapperV2)                                                                                   \n",
      "                                                                                                  \n",
      " quant_block_16_expand_relu (Qu  (None, 8, 8, 960)   3           ['quant_block_16_expand_BN[0][0]'\n",
      " antizeWrapperV2)                                                ]                                \n",
      "                                                                                                  \n",
      " quant_block_16_depthwise (Quan  (None, 8, 8, 960)   8643        ['quant_block_16_expand_relu[0][0\n",
      " tizeWrapperV2)                                                  ]']                              \n",
      "                                                                                                  \n",
      " quant_block_16_depthwise_BN (Q  (None, 8, 8, 960)   3841        ['quant_block_16_depthwise[0][0]'\n",
      " uantizeWrapperV2)                                               ]                                \n",
      "                                                                                                  \n",
      " quant_block_16_depthwise_relu   (None, 8, 8, 960)   3           ['quant_block_16_depthwise_BN[0][\n",
      " (QuantizeWrapperV2)                                             0]']                             \n",
      "                                                                                                  \n",
      " quant_block_16_project (Quanti  (None, 8, 8, 320)   307841      ['quant_block_16_depthwise_relu[0\n",
      " zeWrapperV2)                                                    ][0]']                           \n",
      "                                                                                                  \n",
      " quant_block_16_project_BN (Qua  (None, 8, 8, 320)   1283        ['quant_block_16_project[0][0]'] \n",
      " ntizeWrapperV2)                                                                                  \n",
      "                                                                                                  \n",
      " quant_Conv_1 (QuantizeWrapperV  (None, 8, 8, 1280)  412161      ['quant_block_16_project_BN[0][0]\n",
      " 2)                                                              ']                               \n",
      "                                                                                                  \n",
      " quant_Conv_1_bn (QuantizeWrapp  (None, 8, 8, 1280)  5121        ['quant_Conv_1[0][0]']           \n",
      " erV2)                                                                                            \n",
      "                                                                                                  \n",
      " quant_out_relu (QuantizeWrappe  (None, 8, 8, 1280)  3           ['quant_Conv_1_bn[0][0]']        \n",
      " rV2)                                                                                             \n",
      "                                                                                                  \n",
      " quant_global_average_pooling2d  (None, 1280)        3           ['quant_out_relu[0][0]']         \n",
      "  (QuantizeWrapperV2)                                                                             \n",
      "                                                                                                  \n",
      " quant_dense (QuantizeWrapperV2  (None, 1024)        1311749     ['quant_global_average_pooling2d[\n",
      " )                                                               0][0]']                          \n",
      "                                                                                                  \n",
      " quant_dense_1 (QuantizeWrapper  (None, 512)         524805      ['quant_dense[0][0]']            \n",
      " V2)                                                                                              \n",
      "                                                                                                  \n",
      " quant_dense_2 (QuantizeWrapper  (None, 256)         131333      ['quant_dense_1[0][0]']          \n",
      " V2)                                                                                              \n",
      "                                                                                                  \n",
      " quant_dense_3 (QuantizeWrapper  (None, 36)          9257        ['quant_dense_2[0][0]']          \n",
      " V2)                                                                                              \n",
      "                                                                                                  \n",
      "==================================================================================================\n",
      "Total params: 4,255,285\n",
      "Trainable params: 4,166,884\n",
      "Non-trainable params: 88,401\n",
      "__________________________________________________________________________________________________\n"
     ]
    }
   ],
   "source": [
    "save_dir = ''\n",
    "model = tf.keras.models.load_model(save_dir+'/modelMobileNetV2.h5')\n",
    "\n",
    "quantize_model = tfmot.quantization.keras.quantize_model\n",
    "\n",
    "# q_aware stands for for quantization aware.\n",
    "q_aware_model = quantize_model(model)\n",
    "\n",
    "# `quantize_model` requires a recompile.\n",
    "q_aware_model.compile(optimizer='adam',\n",
    "            #   loss=tf.keras.losses.SparseCategoricalCrossentropy(from_logits=True),\n",
    "            loss=\"binary_crossentropy\",\n",
    "              metrics=['accuracy'])\n",
    "\n",
    "q_aware_model.summary()"
   ]
  },
  {
   "cell_type": "code",
   "execution_count": 50,
   "metadata": {},
   "outputs": [
    {
     "name": "stdout",
     "output_type": "stream",
     "text": [
      "Epoch 1/25\n",
      "98/98 [==============================] - 451s 5s/step - loss: 0.2012 - accuracy: 0.0218 - val_loss: 0.2312 - val_accuracy: 0.0285\n",
      "Epoch 2/25\n",
      "98/98 [==============================] - 448s 5s/step - loss: 0.2709 - accuracy: 0.0218 - val_loss: 0.3138 - val_accuracy: 0.0285\n",
      "Epoch 3/25\n",
      "98/98 [==============================] - 448s 5s/step - loss: 0.3698 - accuracy: 0.0218 - val_loss: 0.4315 - val_accuracy: 0.0285\n",
      "Epoch 4/25\n",
      "98/98 [==============================] - 448s 5s/step - loss: 0.5047 - accuracy: 0.0218 - val_loss: 0.5844 - val_accuracy: 0.0285\n",
      "Epoch 5/25\n",
      "98/98 [==============================] - 446s 5s/step - loss: 0.7041 - accuracy: 0.0260 - val_loss: 0.8805 - val_accuracy: 0.0285\n",
      "Epoch 6/25\n",
      "98/98 [==============================] - 447s 5s/step - loss: 1.0492 - accuracy: 0.0295 - val_loss: 1.2336 - val_accuracy: 0.0285\n",
      "Epoch 6: early stopping\n"
     ]
    },
    {
     "data": {
      "text/plain": [
       "<keras.callbacks.History at 0x23d30d032c8>"
      ]
     },
     "execution_count": 50,
     "metadata": {},
     "output_type": "execute_result"
    }
   ],
   "source": [
    "from keras.callbacks import EarlyStopping\n",
    "es = EarlyStopping(monitor='val_loss', mode='min', verbose=1, patience=5)\n",
    "q_aware_model.fit(train_generator,\n",
    "                  batch_size=batch_size,\n",
    "                  epochs=25,\n",
    "                  validation_data=validation_generator,\n",
    "                  callbacks=[es])"
   ]
  },
  {
   "cell_type": "code",
   "execution_count": 52,
   "metadata": {},
   "outputs": [
    {
     "name": "stdout",
     "output_type": "stream",
     "text": [
      "Baseline test accuracy: 0.9749303460121155\n",
      "Quant test accuracy: 0.027855154126882553\n"
     ]
    }
   ],
   "source": [
    "_, baseline_model_accuracy = model.evaluate(test_generator, verbose=0)\n",
    "\n",
    "_, q_aware_model_accuracy = q_aware_model.evaluate(test_generator, verbose=0)\n",
    "\n",
    "print('Baseline test accuracy:', baseline_model_accuracy)\n",
    "print('Quant test accuracy:', q_aware_model_accuracy)"
   ]
  },
  {
   "cell_type": "markdown",
   "metadata": {},
   "source": [
    "# Create Simple Model for Acc Test"
   ]
  },
  {
   "cell_type": "code",
   "execution_count": 40,
   "metadata": {},
   "outputs": [],
   "source": [
    "from tensorflow import keras\n",
    "from keras import layers\n",
    "from keras import models\n",
    "from keras.layers import Dropout\n",
    "\n",
    "# Define the simple model architecture.\n",
    "simple_model = keras.Sequential([\n",
    "  keras.layers.InputLayer(input_shape=input_shape),\n",
    "  # keras.layers.Reshape(target_shape=target_size),\n",
    "  keras.layers.Conv2D(filters=12, kernel_size=(3, 3), activation='relu'),\n",
    "  keras.layers.MaxPooling2D(pool_size=(2, 2)),\n",
    "  keras.layers.Flatten(),\n",
    "  keras.layers.Dense(36)\n",
    "])\n"
   ]
  },
  {
   "cell_type": "code",
   "execution_count": 43,
   "metadata": {},
   "outputs": [],
   "source": [
    "simple_model.compile(optimizer='adam',\n",
    "            #   loss=tf.keras.losses.SparseCategoricalCrossentropy(from_logits=True),\n",
    "            loss = \"binary_crossentropy\",\n",
    "              metrics=['accuracy'])"
   ]
  },
  {
   "cell_type": "code",
   "execution_count": 53,
   "metadata": {},
   "outputs": [
    {
     "name": "stdout",
     "output_type": "stream",
     "text": [
      "Epoch 1/25\n",
      "98/98 [==============================] - 141s 1s/step - loss: 1.2323 - accuracy: 0.0222 - val_loss: 1.2295 - val_accuracy: 0.0285\n",
      "Epoch 2/25\n",
      "98/98 [==============================] - 139s 1s/step - loss: 1.2323 - accuracy: 0.0222 - val_loss: 1.2295 - val_accuracy: 0.0285\n",
      "Epoch 3/25\n",
      "98/98 [==============================] - 139s 1s/step - loss: 1.2323 - accuracy: 0.0222 - val_loss: 1.2295 - val_accuracy: 0.0285\n",
      "Epoch 4/25\n",
      "98/98 [==============================] - 137s 1s/step - loss: 1.2323 - accuracy: 0.0222 - val_loss: 1.2295 - val_accuracy: 0.0285\n",
      "Epoch 5/25\n",
      "98/98 [==============================] - 141s 1s/step - loss: 1.2323 - accuracy: 0.0222 - val_loss: 1.2295 - val_accuracy: 0.0285\n",
      "Epoch 6/25\n",
      "98/98 [==============================] - 134s 1s/step - loss: 1.2323 - accuracy: 0.0222 - val_loss: 1.2295 - val_accuracy: 0.0285\n",
      "Epoch 6: early stopping\n"
     ]
    },
    {
     "data": {
      "text/plain": [
       "<keras.callbacks.History at 0x23d2ea48f08>"
      ]
     },
     "execution_count": 53,
     "metadata": {},
     "output_type": "execute_result"
    }
   ],
   "source": [
    "simple_model.fit(\n",
    "  train_generator,\n",
    "  epochs=25,\n",
    "  validation_data=validation_generator,\n",
    "  callbacks=[es]\n",
    ")"
   ]
  },
  {
   "cell_type": "code",
   "execution_count": 54,
   "metadata": {},
   "outputs": [
    {
     "name": "stdout",
     "output_type": "stream",
     "text": [
      "Simple model test accuracy: 0.027855154126882553\n"
     ]
    }
   ],
   "source": [
    "_, simple_model_accuracy = simple_model.evaluate(test_generator, verbose=0)\n",
    "print('Simple model test accuracy:', simple_model_accuracy)"
   ]
  },
  {
   "cell_type": "markdown",
   "metadata": {},
   "source": [
    "# Test2"
   ]
  },
  {
   "cell_type": "code",
   "execution_count": null,
   "metadata": {},
   "outputs": [],
   "source": [
    "from tensorflow import keras\n",
    "from keras import layers\n",
    "from keras import models\n",
    "from keras.layers import Dropout\n",
    "\n",
    "model2=tf.keras.Sequential()\n",
    "\n",
    "model2.add(layers.Conv2D(filters = 32, kernel_size=(3, 3),  padding = \"same\", activation='relu', input_shape=input_shape))\n",
    "model2.add(layers.MaxPooling2D(pool_size=(2, 2)))\n",
    "# model2.add(Dropout(0.2))\n",
    "\n",
    "model2.add(layers.Conv2D(64, kernel_size=(3, 3), activation='relu'))\n",
    "model2.add(layers.MaxPooling2D(pool_size=(2, 2)))\n",
    "# model2.add(Dropout(0.2))\n",
    "\n",
    "model2.add(layers.Conv2D(128, kernel_size=(3, 3), activation='relu'))\n",
    "model2.add(layers.Flatten())\n",
    "\n",
    "model2.add(layers.Dense(128, activation='relu'))\n",
    "\n",
    "# model2.add(Dropout(0.5))\n",
    "model2.add(layers.Dense(36, activation='softmax'))\n",
    "\n",
    "model2.compile(optimizer= \"adam\",loss='categorical_crossentropy',metrics=['accuracy'])\n",
    "\n",
    "history2 = model2.fit(\n",
    "  train_generator,\n",
    "  batch_size=batch_size,\n",
    "  epochs=25,\n",
    "  validation_data=validation_generator,\n",
    "  callbacks=[es]\n",
    ")"
   ]
  },
  {
   "cell_type": "code",
   "execution_count": 56,
   "metadata": {},
   "outputs": [
    {
     "name": "stdout",
     "output_type": "stream",
     "text": [
      "Model: \"sequential_11\"\n",
      "_________________________________________________________________\n",
      " Layer (type)                Output Shape              Param #   \n",
      "=================================================================\n",
      " conv2d_10 (Conv2D)          (None, 256, 256, 32)      896       \n",
      "                                                                 \n",
      " max_pooling2d_10 (MaxPoolin  (None, 128, 128, 32)     0         \n",
      " g2D)                                                            \n",
      "                                                                 \n",
      " conv2d_11 (Conv2D)          (None, 126, 126, 64)      18496     \n",
      "                                                                 \n",
      " max_pooling2d_11 (MaxPoolin  (None, 63, 63, 64)       0         \n",
      " g2D)                                                            \n",
      "                                                                 \n",
      " conv2d_12 (Conv2D)          (None, 61, 61, 128)       73856     \n",
      "                                                                 \n",
      " flatten_10 (Flatten)        (None, 476288)            0         \n",
      "                                                                 \n",
      " dense_10 (Dense)            (None, 128)               60964992  \n",
      "                                                                 \n",
      " dense_11 (Dense)            (None, 36)                4644      \n",
      "                                                                 \n",
      "=================================================================\n",
      "Total params: 61,062,884\n",
      "Trainable params: 61,062,884\n",
      "Non-trainable params: 0\n",
      "_________________________________________________________________\n"
     ]
    }
   ],
   "source": [
    "from tensorflow import keras\n",
    "from keras import layers\n",
    "from keras import models\n",
    "from keras.layers import Dropout\n",
    "\n",
    "model2=tf.keras.Sequential()\n",
    "\n",
    "model2.add(layers.Conv2D(filters = 32, kernel_size=(3, 3),  padding = \"same\", activation='relu', input_shape=input_shape))\n",
    "model2.add(layers.MaxPooling2D(pool_size=(2, 2)))\n",
    "# model2.add(Dropout(0.2))\n",
    "\n",
    "model2.add(layers.Conv2D(64, kernel_size=(3, 3), activation='relu'))\n",
    "model2.add(layers.MaxPooling2D(pool_size=(2, 2)))\n",
    "# model2.add(Dropout(0.2))\n",
    "\n",
    "model2.add(layers.Conv2D(128, kernel_size=(3, 3), activation='relu'))\n",
    "model2.add(layers.Flatten())\n",
    "\n",
    "model2.add(layers.Dense(128, activation='relu'))\n",
    "\n",
    "# model2.add(Dropout(0.5))\n",
    "model2.add(layers.Dense(36, activation='softmax'))\n",
    "\n",
    "model2.summary()"
   ]
  },
  {
   "cell_type": "code",
   "execution_count": 57,
   "metadata": {},
   "outputs": [],
   "source": [
    "model2.compile(optimizer= \"adam\",loss='categorical_crossentropy',metrics=['accuracy'])"
   ]
  },
  {
   "cell_type": "code",
   "execution_count": 58,
   "metadata": {},
   "outputs": [
    {
     "name": "stdout",
     "output_type": "stream",
     "text": [
      "Epoch 1/25\n",
      " 4/98 [>.............................] - ETA: 3:37 - loss: 17.2786 - accuracy: 0.0312"
     ]
    },
    {
     "name": "stderr",
     "output_type": "stream",
     "text": [
      "c:\\ProgramData\\Anaconda3\\lib\\site-packages\\PIL\\Image.py:980: UserWarning: Palette images with Transparency expressed in bytes should be converted to RGBA images\n",
      "  \"Palette images with Transparency expressed in bytes should be \"\n"
     ]
    },
    {
     "name": "stdout",
     "output_type": "stream",
     "text": [
      "98/98 [==============================] - 272s 3s/step - loss: 4.0684 - accuracy: 0.0504 - val_loss: 3.2544 - val_accuracy: 0.1168\n",
      "Epoch 2/25\n",
      "98/98 [==============================] - 271s 3s/step - loss: 3.1036 - accuracy: 0.1406 - val_loss: 2.2569 - val_accuracy: 0.4672\n",
      "Epoch 3/25\n",
      "98/98 [==============================] - 280s 3s/step - loss: 2.2253 - accuracy: 0.3942 - val_loss: 1.2042 - val_accuracy: 0.8433\n",
      "Epoch 4/25\n",
      "98/98 [==============================] - 277s 3s/step - loss: 0.8924 - accuracy: 0.7849 - val_loss: 0.5025 - val_accuracy: 0.9402\n",
      "Epoch 5/25\n",
      "98/98 [==============================] - 263s 3s/step - loss: 0.3420 - accuracy: 0.9425 - val_loss: 0.5010 - val_accuracy: 0.9430\n",
      "Epoch 6/25\n",
      "98/98 [==============================] - 262s 3s/step - loss: 0.1422 - accuracy: 0.9762 - val_loss: 0.3388 - val_accuracy: 0.9573\n",
      "Epoch 7/25\n",
      "98/98 [==============================] - 263s 3s/step - loss: 0.0951 - accuracy: 0.9888 - val_loss: 0.2739 - val_accuracy: 0.9630\n",
      "Epoch 8/25\n",
      "98/98 [==============================] - 263s 3s/step - loss: 0.0572 - accuracy: 0.9910 - val_loss: 0.3359 - val_accuracy: 0.9516\n",
      "Epoch 9/25\n",
      "98/98 [==============================] - 263s 3s/step - loss: 0.0533 - accuracy: 0.9910 - val_loss: 0.2929 - val_accuracy: 0.9573\n",
      "Epoch 10/25\n",
      "98/98 [==============================] - 263s 3s/step - loss: 0.0565 - accuracy: 0.9917 - val_loss: 0.2526 - val_accuracy: 0.9601\n",
      "Epoch 11/25\n",
      "98/98 [==============================] - 264s 3s/step - loss: 0.0345 - accuracy: 0.9913 - val_loss: 0.2594 - val_accuracy: 0.9630\n",
      "Epoch 12/25\n",
      "98/98 [==============================] - 264s 3s/step - loss: 0.0446 - accuracy: 0.9913 - val_loss: 0.2616 - val_accuracy: 0.9516\n",
      "Epoch 13/25\n",
      "98/98 [==============================] - 264s 3s/step - loss: 0.0340 - accuracy: 0.9917 - val_loss: 0.2869 - val_accuracy: 0.9573\n",
      "Epoch 14/25\n",
      "98/98 [==============================] - 264s 3s/step - loss: 0.0445 - accuracy: 0.9913 - val_loss: 0.2347 - val_accuracy: 0.9544\n",
      "Epoch 15/25\n",
      "98/98 [==============================] - 263s 3s/step - loss: 0.0365 - accuracy: 0.9904 - val_loss: 0.2841 - val_accuracy: 0.9573\n",
      "Epoch 16/25\n",
      "98/98 [==============================] - 263s 3s/step - loss: 0.0307 - accuracy: 0.9904 - val_loss: 0.2692 - val_accuracy: 0.9573\n",
      "Epoch 17/25\n",
      "98/98 [==============================] - 263s 3s/step - loss: 0.0290 - accuracy: 0.9904 - val_loss: 0.3054 - val_accuracy: 0.9544\n",
      "Epoch 18/25\n",
      "98/98 [==============================] - 264s 3s/step - loss: 0.0314 - accuracy: 0.9907 - val_loss: 0.2636 - val_accuracy: 0.9544\n",
      "Epoch 19/25\n",
      "98/98 [==============================] - 263s 3s/step - loss: 0.0382 - accuracy: 0.9888 - val_loss: 0.3044 - val_accuracy: 0.9601\n",
      "Epoch 19: early stopping\n"
     ]
    }
   ],
   "source": [
    "history2 = model2.fit(\n",
    "  train_generator,\n",
    "  batch_size=batch_size,\n",
    "  epochs=25,\n",
    "  validation_data=validation_generator,\n",
    "  callbacks=[es]\n",
    ")"
   ]
  },
  {
   "cell_type": "code",
   "execution_count": 61,
   "metadata": {},
   "outputs": [
    {
     "data": {
      "image/png": "[encoded data removed]",
      "text/plain": [
       "<Figure size 432x288 with 1 Axes>"
      ]
     },
     "metadata": {
      "needs_background": "light"
     },
     "output_type": "display_data"
    },
    {
     "data": {
      "image/png": "[encoded data removed]",
      "text/plain": [
       "<Figure size 432x288 with 1 Axes>"
      ]
     },
     "metadata": {
      "needs_background": "light"
     },
     "output_type": "display_data"
    }
   ],
   "source": [
    "import matplotlib.pyplot as plt\n",
    "# Plot the train results\n",
    "acc = history2.history['accuracy']\n",
    "val_acc = history2.history['val_accuracy']\n",
    "loss = history2.history['loss']\n",
    "val_loss = history2.history['val_loss']\n",
    "epochs = range(1, len(acc) + 1)\n",
    "plt.plot(epochs, acc, label='Training acc')\n",
    "plt.plot(epochs, val_acc, label='Validation acc')\n",
    "plt.title('Training and validation accuracy')\n",
    "plt.legend()\n",
    "plt.figure()\n",
    "plt.plot(epochs, loss, label='Training loss')\n",
    "plt.plot(epochs, val_loss, label='Validation loss')\n",
    "plt.title('Training and validation loss')\n",
    "plt.legend()\n",
    "plt.show()"
   ]
  },
  {
   "cell_type": "code",
   "execution_count": 62,
   "metadata": {},
   "outputs": [
    {
     "name": "stdout",
     "output_type": "stream",
     "text": [
      "12/12 [==============================] - 24s 2s/step - loss: 0.2977 - accuracy: 0.9610\n"
     ]
    }
   ],
   "source": [
    "result = model2.evaluate(test_generator)"
   ]
  },
  {
   "cell_type": "code",
   "execution_count": 63,
   "metadata": {},
   "outputs": [
    {
     "name": "stdout",
     "output_type": "stream",
     "text": [
      "Model: \"sequential_11\"\n",
      "_________________________________________________________________\n",
      " Layer (type)                Output Shape              Param #   \n",
      "=================================================================\n",
      " quantize_layer_3 (QuantizeL  (None, 256, 256, 3)      3         \n",
      " ayer)                                                           \n",
      "                                                                 \n",
      " quant_conv2d_10 (QuantizeWr  (None, 256, 256, 32)     963       \n",
      " apperV2)                                                        \n",
      "                                                                 \n",
      " quant_max_pooling2d_10 (Qua  (None, 128, 128, 32)     1         \n",
      " ntizeWrapperV2)                                                 \n",
      "                                                                 \n",
      " quant_conv2d_11 (QuantizeWr  (None, 126, 126, 64)     18627     \n",
      " apperV2)                                                        \n",
      "                                                                 \n",
      " quant_max_pooling2d_11 (Qua  (None, 63, 63, 64)       1         \n",
      " ntizeWrapperV2)                                                 \n",
      "                                                                 \n",
      " quant_conv2d_12 (QuantizeWr  (None, 61, 61, 128)      74115     \n",
      " apperV2)                                                        \n",
      "                                                                 \n",
      " quant_flatten_10 (QuantizeW  (None, 476288)           1         \n",
      " rapperV2)                                                       \n",
      "                                                                 \n",
      " quant_dense_10 (QuantizeWra  (None, 128)              60964997  \n",
      " pperV2)                                                         \n",
      "                                                                 \n",
      " quant_dense_11 (QuantizeWra  (None, 36)               4649      \n",
      " pperV2)                                                         \n",
      "                                                                 \n",
      "=================================================================\n",
      "Total params: 61,063,357\n",
      "Trainable params: 61,062,884\n",
      "Non-trainable params: 473\n",
      "_________________________________________________________________\n"
     ]
    }
   ],
   "source": [
    "import tensorflow_model_optimization as tfmot\n",
    "\n",
    "quantize_model2 = tfmot.quantization.keras.quantize_model\n",
    "\n",
    "# q_aware stands for for quantization aware.\n",
    "q_aware_model2 = quantize_model2(model2)\n",
    "\n",
    "# `quantize_model` requires a recompile.\n",
    "q_aware_model2.compile(optimizer='adam',\n",
    "            #   loss=tf.keras.losses.SparseCategoricalCrossentropy(from_logits=True),\n",
    "            loss=\"categorical_crossentropy\",\n",
    "              metrics=['accuracy'])\n",
    "\n",
    "q_aware_model2.summary()"
   ]
  },
  {
   "cell_type": "code",
   "execution_count": 64,
   "metadata": {},
   "outputs": [
    {
     "name": "stderr",
     "output_type": "stream",
     "text": [
      "c:\\ProgramData\\Anaconda3\\lib\\site-packages\\PIL\\Image.py:980: UserWarning: Palette images with Transparency expressed in bytes should be converted to RGBA images\n",
      "  \"Palette images with Transparency expressed in bytes should be \"\n"
     ]
    },
    {
     "name": "stdout",
     "output_type": "stream",
     "text": [
      "98/98 [==============================] - 362s 4s/step - loss: 0.0978 - accuracy: 0.9795 - val_loss: 0.2349 - val_accuracy: 0.9573\n"
     ]
    },
    {
     "data": {
      "text/plain": [
       "<keras.callbacks.History at 0x23d1b4a7988>"
      ]
     },
     "execution_count": 64,
     "metadata": {},
     "output_type": "execute_result"
    }
   ],
   "source": [
    "from keras.callbacks import EarlyStopping\n",
    "es = EarlyStopping(monitor='val_loss', mode='min', verbose=1, patience=5)\n",
    "q_aware_model2.fit(train_generator,\n",
    "                  batch_size=batch_size,\n",
    "                  epochs=1,\n",
    "                  validation_data=validation_generator,\n",
    "                  callbacks=[es])"
   ]
  },
  {
   "cell_type": "code",
   "execution_count": 65,
   "metadata": {},
   "outputs": [
    {
     "name": "stdout",
     "output_type": "stream",
     "text": [
      "new model2 test accuracy: 0.961002767086029\n",
      "Quant test accuracy: 0.9582172632217407\n"
     ]
    }
   ],
   "source": [
    "_, baseline_model_accuracy2 = model2.evaluate(test_generator, verbose=0)\n",
    "\n",
    "_, q_aware_model_accuracy2 = q_aware_model2.evaluate(test_generator, verbose=0)\n",
    "\n",
    "print('new model2 test accuracy:', baseline_model_accuracy2)\n",
    "print('Quant test accuracy:', q_aware_model_accuracy2)"
   ]
  },
  {
   "cell_type": "code",
   "execution_count": 66,
   "metadata": {},
   "outputs": [],
   "source": [
    "save_dir = ''\n",
    "q_aware_model2.save(save_dir+'/q_model2.h5')"
   ]
  },
  {
   "cell_type": "code",
   "execution_count": 67,
   "metadata": {},
   "outputs": [
    {
     "name": "stderr",
     "output_type": "stream",
     "text": [
      "WARNING:absl:Found untraced functions such as _update_step_xla, conv2d_10_layer_call_fn, conv2d_10_layer_call_and_return_conditional_losses, _jit_compiled_convolution_op, conv2d_11_layer_call_fn while saving (showing 5 of 16). These functions will not be directly callable after loading.\n"
     ]
    },
    {
     "name": "stdout",
     "output_type": "stream",
     "text": [
      "INFO:tensorflow:Assets written to: C:\\Users\\YOUNGH~1\\AppData\\Local\\Temp\\tmpx9ftx56d\\assets\n"
     ]
    },
    {
     "name": "stderr",
     "output_type": "stream",
     "text": [
      "INFO:tensorflow:Assets written to: C:\\Users\\YOUNGH~1\\AppData\\Local\\Temp\\tmpx9ftx56d\\assets\n",
      "c:\\ProgramData\\Anaconda3\\lib\\site-packages\\tensorflow\\lite\\python\\convert.py:765: UserWarning: Statistics for quantized inputs were expected, but not specified; continuing anyway.\n",
      "  warnings.warn(\"Statistics for quantized inputs were expected, but not \"\n"
     ]
    }
   ],
   "source": [
    "converter = tf.lite.TFLiteConverter.from_keras_model(q_aware_model2)\n",
    "# converter.optimizations = [tf.lite.Optimize.DEFAULT]\n",
    "\n",
    "quantized_tflite_model = converter.convert()"
   ]
  },
  {
   "cell_type": "code",
   "execution_count": 68,
   "metadata": {},
   "outputs": [],
   "source": [
    "# Save the model.\n",
    "with open('q_model2.tflite', 'wb') as f:\n",
    "  f.write(quantized_tflite_model)"
   ]
  }
 ],
 "metadata": {
  "kernelspec": {
   "display_name": "base",
   "language": "python",
   "name": "python3"
  },
  "language_info": {
   "codemirror_mode": {
    "name": "ipython",
    "version": 3
   },
   "file_extension": ".py",
   "mimetype": "text/x-python",
   "name": "python",
   "nbconvert_exporter": "python",
   "pygments_lexer": "ipython3",
   "version": "3.7.16"
  },
  "orig_nbformat": 4
 },
 "nbformat": 4,
 "nbformat_minor": 2
}
